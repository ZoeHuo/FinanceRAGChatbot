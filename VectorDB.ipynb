{
  "nbformat": 4,
  "nbformat_minor": 0,
  "metadata": {
    "colab": {
      "provenance": []
    },
    "kernelspec": {
      "name": "python3",
      "display_name": "Python 3"
    },
    "language_info": {
      "name": "python"
    }
  },
  "cells": [
    {
      "cell_type": "code",
      "execution_count": 1,
      "metadata": {
        "id": "R4TjywSyOHVB"
      },
      "outputs": [],
      "source": [
        "!pip install langchain langchain_community langchain-chroma langchain_text_splitters -U -q\n",
        "!pip install sentence-transformers -q"
      ]
    },
    {
      "cell_type": "code",
      "source": [
        "import os\n",
        "import itertools\n",
        "import pickle"
      ],
      "metadata": {
        "id": "6bTwpy6kENy6"
      },
      "execution_count": 2,
      "outputs": []
    },
    {
      "cell_type": "code",
      "source": [
        "from google.colab import drive\n",
        "import os\n",
        "\n",
        "# Step 1: Mount Google Drive\n",
        "drive.mount('/content/drive')\n",
        "\n",
        "# Step 2: Change directory to where your notebook is located\n",
        "notebook_directory = '/content/drive/My Drive/Colab Notebooks/2024 NLP GenAI/NLP/project'\n",
        "os.chdir(notebook_directory)\n",
        "\n",
        "# Step 3: Verify the current working directory\n",
        "print(\"Current working directory:\", os.getcwd())"
      ],
      "metadata": {
        "colab": {
          "base_uri": "https://localhost:8080/"
        },
        "id": "4dpKFl9BEm9G",
        "outputId": "c17ef524-a281-4621-ac09-d44fe7bd56b7"
      },
      "execution_count": 3,
      "outputs": [
        {
          "output_type": "stream",
          "name": "stdout",
          "text": [
            "Drive already mounted at /content/drive; to attempt to forcibly remount, call drive.mount(\"/content/drive\", force_remount=True).\n",
            "Current working directory: /content/drive/My Drive/Colab Notebooks/2024 NLP GenAI/NLP/project\n"
          ]
        }
      ]
    },
    {
      "cell_type": "code",
      "source": [
        "from langchain.text_splitter import RecursiveCharacterTextSplitter\n",
        "from langchain_chroma import Chroma\n",
        "from langchain_community.embeddings.sentence_transformer import SentenceTransformerEmbeddings\n",
        "from langchain_text_splitters import MarkdownHeaderTextSplitter\n",
        "from langchain.schema import Document\n",
        "\n",
        "\n",
        "emb_fn = SentenceTransformerEmbeddings(model_name=\"all-MiniLM-L6-v2\")"
      ],
      "metadata": {
        "colab": {
          "base_uri": "https://localhost:8080/"
        },
        "id": "sVq9i-9FPsP9",
        "outputId": "09b843f1-a41f-4e60-ecbc-05c5cf966bf2"
      },
      "execution_count": 4,
      "outputs": [
        {
          "output_type": "stream",
          "name": "stderr",
          "text": [
            "/usr/local/lib/python3.10/dist-packages/langchain_core/_api/deprecation.py:139: LangChainDeprecationWarning: The class `HuggingFaceEmbeddings` was deprecated in LangChain 0.2.2 and will be removed in 0.3.0. An updated version of the class exists in the langchain-huggingface package and should be used instead. To use it run `pip install -U langchain-huggingface` and import as `from langchain_huggingface import HuggingFaceEmbeddings`.\n",
            "  warn_deprecated(\n",
            "/usr/local/lib/python3.10/dist-packages/sentence_transformers/cross_encoder/CrossEncoder.py:11: TqdmExperimentalWarning: Using `tqdm.autonotebook.tqdm` in notebook mode. Use `tqdm.tqdm` instead to force console mode (e.g. in jupyter console)\n",
            "  from tqdm.autonotebook import tqdm, trange\n",
            "/usr/local/lib/python3.10/dist-packages/huggingface_hub/utils/_token.py:89: UserWarning: \n",
            "The secret `HF_TOKEN` does not exist in your Colab secrets.\n",
            "To authenticate with the Hugging Face Hub, create a token in your settings tab (https://huggingface.co/settings/tokens), set it as secret in your Google Colab and restart your session.\n",
            "You will be able to reuse this secret in all of your notebooks.\n",
            "Please note that authentication is recommended but still optional to access public models or datasets.\n",
            "  warnings.warn(\n",
            "/usr/local/lib/python3.10/dist-packages/huggingface_hub/file_download.py:1132: FutureWarning: `resume_download` is deprecated and will be removed in version 1.0.0. Downloads always resume when possible. If you want to force a new download, use `force_download=True`.\n",
            "  warnings.warn(\n"
          ]
        }
      ]
    },
    {
      "cell_type": "code",
      "source": [
        "text_splitter = RecursiveCharacterTextSplitter(\n",
        "        chunk_size=1024,\n",
        "        chunk_overlap=100,\n",
        "        length_function=len,\n",
        "        # is_separator_regex = False,\n",
        "    )\n",
        "\n",
        "headers_to_split_on = [\n",
        "    (\"#\", \"Header 1\"),\n",
        "    (\"##\", \"Header 2\"),\n",
        "    (\"###\", \"Header 3\"),\n",
        "]\n",
        "markdown_splitter = MarkdownHeaderTextSplitter(headers_to_split_on=headers_to_split_on)"
      ],
      "metadata": {
        "id": "hVH0g0gIRvX2"
      },
      "execution_count": 5,
      "outputs": []
    },
    {
      "cell_type": "code",
      "source": [
        "# Config\n",
        "# ticker = ['AMD']\n",
        "ticker = ['NVDA', 'AMD', 'INTC', 'QCOM', 'AVGO', 'DELL']\n",
        "year = ['2024']\n",
        "combinations = list(itertools.product(ticker, year))"
      ],
      "metadata": {
        "id": "Ck8_IKpQOlYt"
      },
      "execution_count": 6,
      "outputs": []
    },
    {
      "cell_type": "markdown",
      "source": [
        "### DB for markdown based SEC filings"
      ],
      "metadata": {
        "id": "3T9kLrb3Pt0h"
      }
    },
    {
      "cell_type": "code",
      "source": [
        "markdown_dir = \"./output/SEC_EDGAR_FILINGS_MD\"\n",
        "\n",
        "md_content_list = []\n",
        "\n",
        "for combo in combinations:\n",
        "  ticker, year = combo\n",
        "  for md_dirs in os.listdir(os.path.join(markdown_dir,f\"{ticker}-{year}\")):\n",
        "    md_file_path = os.path.join(markdown_dir,f\"{ticker}-{year}\",md_dirs,f\"{md_dirs}.md\")\n",
        "    print(f'{ticker}-{year}-{md_dirs}')\n",
        "    with open(md_file_path, 'r') as file:\n",
        "      content = file.read()\n",
        "    md_content_list.append([content, ticker, year, '-'.join(md_dirs.split('-')[-2:])])"
      ],
      "metadata": {
        "colab": {
          "base_uri": "https://localhost:8080/"
        },
        "id": "iHKsBx6ESGjR",
        "outputId": "bbf225c8-ef7e-4fc4-c9ee-7fd0b2d3abc9"
      },
      "execution_count": 7,
      "outputs": [
        {
          "output_type": "stream",
          "name": "stdout",
          "text": [
            "NVDA-2024-nvda-20240428-10-Q2\n",
            "NVDA-2024-nvda-20240128-10-K\n",
            "AMD-2024-amd-20240330-10-Q1\n",
            "INTC-2024-intc-20240330-10-Q1\n",
            "QCOM-2024-qcom-20240324-10-Q1\n",
            "AVGO-2024-avgo-20240505-10-Q2\n",
            "AVGO-2024-avgo-20240204-10-Q1\n",
            "DELL-2024-dell-20240503-10-Q2\n"
          ]
        }
      ]
    },
    {
      "cell_type": "code",
      "source": [
        "sec_markdown_docs = []\n",
        "\n",
        "for md_content in md_content_list:\n",
        "  md_header_splits = markdown_splitter.split_text(md_content[0])\n",
        "  for md_header_docs in md_header_splits:\n",
        "    # Add extra metadata\n",
        "    md_header_docs.metadata.update({\"ticker\":md_content[1]})\n",
        "    md_header_docs.metadata.update({\"year\":md_content[2]})\n",
        "    md_header_docs.metadata.update({\"filing_type\":md_content[3]})\n",
        "  sec_markdown_docs.extend(md_header_splits)"
      ],
      "metadata": {
        "id": "snrTX1KWSGmU"
      },
      "execution_count": 8,
      "outputs": []
    },
    {
      "cell_type": "code",
      "source": [
        "%%time\n",
        "sec_filings_md_db = Chroma.from_documents(sec_markdown_docs, emb_fn,\n",
        "                                          persist_directory=\"./sec-filings-md-db\",\n",
        "                                          collection_name=\"sec_filings_md\")"
      ],
      "metadata": {
        "colab": {
          "base_uri": "https://localhost:8080/"
        },
        "id": "zsy2cJ3rSN1R",
        "outputId": "89d6193b-63f3-4d4f-c9f5-9730dc90f568"
      },
      "execution_count": 9,
      "outputs": [
        {
          "output_type": "stream",
          "name": "stdout",
          "text": [
            "CPU times: user 55.7 s, sys: 5.52 s, total: 1min 1s\n",
            "Wall time: 1min 2s\n"
          ]
        }
      ]
    },
    {
      "cell_type": "markdown",
      "source": [
        "### DB for Earnings Call"
      ],
      "metadata": {
        "id": "gYXTpaQZ1j1b"
      }
    },
    {
      "cell_type": "code",
      "source": [
        "earnings_call_dir = \"./output/earnings_call\"\n",
        "\n",
        "earnings_call_list = []\n",
        "\n",
        "for combo in combinations:\n",
        "  ticker, year = combo\n",
        "  ec_file_path = os.path.join(earnings_call_dir,f\"{ticker}-{year}\",\"earnings_calls.pkl\")\n",
        "  print(f'{ticker}-{year}-earnings_call')\n",
        "  with open(ec_file_path, 'rb') as file:\n",
        "    loaded_earnings_call = pickle.load(file)\n",
        "  # loaded_earnings_call['ticker'] = ticker\n",
        "  # loaded_earnings_call['year'] = year\n",
        "  earnings_call_list.append(loaded_earnings_call)"
      ],
      "metadata": {
        "colab": {
          "base_uri": "https://localhost:8080/"
        },
        "id": "0TkaQKf82k5D",
        "outputId": "d53c43b5-89c0-40e7-da70-c2dc556c21e5"
      },
      "execution_count": 10,
      "outputs": [
        {
          "output_type": "stream",
          "name": "stdout",
          "text": [
            "NVDA-2024-earnings_call\n",
            "AMD-2024-earnings_call\n",
            "INTC-2024-earnings_call\n",
            "QCOM-2024-earnings_call\n",
            "AVGO-2024-earnings_call\n",
            "DELL-2024-earnings_call\n"
          ]
        }
      ]
    },
    {
      "cell_type": "code",
      "source": [
        "earnings_call_docs = []\n",
        "\n",
        "for earnings_call in earnings_call_list:\n",
        "  earnings_calls_splits = text_splitter.split_documents(earnings_call['earnings_docs'])\n",
        "  earnings_call_docs.extend(earnings_calls_splits)"
      ],
      "metadata": {
        "id": "FXHif02G5xGS"
      },
      "execution_count": 11,
      "outputs": []
    },
    {
      "cell_type": "code",
      "source": [
        "%%time\n",
        "earnings_call_db = Chroma.from_documents(earnings_calls_splits, emb_fn,\n",
        "                                         persist_directory=\"./earnings-call-db\",\n",
        "                                         collection_name=\"earnings_call\")"
      ],
      "metadata": {
        "colab": {
          "base_uri": "https://localhost:8080/"
        },
        "id": "G-AFwrd55fw7",
        "outputId": "f0f529e9-71e7-4cd1-c261-84312cce1a85"
      },
      "execution_count": 12,
      "outputs": [
        {
          "output_type": "stream",
          "name": "stdout",
          "text": [
            "CPU times: user 31.2 s, sys: 2.48 s, total: 33.6 s\n",
            "Wall time: 35.1 s\n"
          ]
        }
      ]
    },
    {
      "cell_type": "markdown",
      "source": [
        "### Queries"
      ],
      "metadata": {
        "id": "IMnsBGgt7jb4"
      }
    },
    {
      "cell_type": "code",
      "source": [
        "company_ticker = 'AMD'\n",
        "\n",
        "query_1 = (\n",
        "    f\"Industry and Market Analysis: \"\n",
        "    f\"1. What are the main trends and drivers in company {company_ticker}? \"\n",
        "    f\"2. Who are the major competitors in this industry? \"\n",
        "    f\"3. What is the company's market share relative to its competitors?\"\n",
        ")\n",
        "\n",
        "query_2 = (\n",
        "    f\"Financial Performance:\"\n",
        "    f\"1. For company {company_ticker}, what has been the company's historical financial performance?\"\n",
        "    f\"2. How have revenue, profits, and key financial metrics (e.g., EBITDA, ROE, ROA) evolved over time?\"\n",
        "    f\"3. What are the company's main sources of revenue and profit?\"\n",
        ")"
      ],
      "metadata": {
        "id": "pHt6Q9MF-x7s"
      },
      "execution_count": 14,
      "outputs": []
    },
    {
      "cell_type": "code",
      "source": [
        "relevant_docs = sec_filings_md_db.similarity_search(query_1, k=1)\n",
        "relevant_docs[0]"
      ],
      "metadata": {
        "colab": {
          "base_uri": "https://localhost:8080/"
        },
        "id": "z7-8bbduC1dJ",
        "outputId": "f92adb37-3922-4a4f-dcc5-7a26469d8494"
      },
      "execution_count": 16,
      "outputs": [
        {
          "output_type": "execute_result",
          "data": {
            "text/plain": [
              "Document(metadata={'Header 1': 'Advanced Micro Devices, Inc. (Exact Name Of Registrant As Specified In Its Charter)', 'Header 2': 'Notes To Condensed Consolidated Financial Statements (Unaudited) Note 1 - The Company', 'filing_type': '10-Q1', 'ticker': 'AMD', 'year': '2024'}, page_content=\"Advanced Micro Devices, Inc. is a global semiconductor company. References herein to AMD or the Company mean Advanced Micro Devices, Inc. and its consolidated subsidiaries. AMD's products include x86 microprocessors (CPUs) and graphics processing units (GPUs), as standalone devices or as incorporated into accelerated processing units (APUs), chipsets, data center and professional GPUs, embedded processors, semi-custom System-on-Chip (SoC) products, microprocessor and SoC development services and technology, data processing units (DPUs), Field Programmable Gate Arrays (FPGAs), System on Modules (SOMs), Smart Network Interface Cards (SmartNICs), Artificial Intelligence (AI) Accelerators and Adaptive SoC products. From time to time, the Company may also sell or license portions of its intellectual property (IP) portfolio.\")"
            ]
          },
          "metadata": {},
          "execution_count": 16
        }
      ]
    },
    {
      "cell_type": "code",
      "source": [
        "relevant_docs = earnings_call_db.similarity_search(query_1, k=3)\n",
        "relevant_docs[0]"
      ],
      "metadata": {
        "colab": {
          "base_uri": "https://localhost:8080/"
        },
        "id": "KfTTYpJWFAFV",
        "outputId": "bd117ab6-c2c5-4df7-9972-779e03d14ecf"
      },
      "execution_count": 17,
      "outputs": [
        {
          "output_type": "execute_result",
          "data": {
            "text/plain": [
              "Document(metadata={'quarter': 'Q1', 'speaker': 'Wamsi Mohan'}, page_content=\"Yes, thank you so much. I was wondering if you could talk about how you're thinking about pricing and share? And maybe also reference, how you're looking at elasticity of demand as a response to pricing? I think, Yvonne, you just said it's definitely a more competitive environment. So, where is Dell going to be kind of flexing more in its ability to drive more share with price, and in what areas do you think that that won't be quite as much, where there might not be as much elasticity of demand? Thank you so much.\")"
            ]
          },
          "metadata": {},
          "execution_count": 17
        }
      ]
    },
    {
      "cell_type": "code",
      "source": [
        "relevant_docs = sec_filings_md_db.similarity_search(query_2, k=3)\n",
        "relevant_docs[0]"
      ],
      "metadata": {
        "colab": {
          "base_uri": "https://localhost:8080/"
        },
        "id": "7UT5uiEuFCtj",
        "outputId": "01ccd321-f20c-42a4-b2f9-682ea2cb7243"
      },
      "execution_count": 18,
      "outputs": [
        {
          "output_type": "execute_result",
          "data": {
            "text/plain": [
              "Document(metadata={'Header 1': 'Advanced Micro Devices, Inc. (Exact Name Of Registrant As Specified In Its Charter)', 'Header 2': 'Note 2 - Basis Of Presentation And Significant Accounting Policies', 'filing_type': '10-Q1', 'ticker': 'AMD', 'year': '2024'}, page_content=\"Basis of *Presentation.* The accompanying unaudited condensed consolidated financial statements of AMD have been prepared in accordance with U.S. generally accepted accounting principles (U.S. GAAP) for interim financial information and the instructions to Form 10-Q and Article 10 of Regulation S-X. The results of operations for the three months ended March 30, 2024 shown in this report are not necessarily indicative of results to be expected for the full year ending December 28, 2024 or any other future period. In the opinion of the Company's management, the information contained herein reflects all adjustments necessary for a fair presentation of the Company's results of operations, financial position, cash flows and stockholders' equity. All such adjustments are of a normal, recurring nature. The unaudited condensed consolidated financial statements should be read in conjunction with the audited consolidated financial statements in the Company's Annual Report on Form 10-K for the fiscal year ended December 30, 2023. Certain immaterial prior period amounts have been reclassified to conform to current period presentation. The Company uses a 52- or 53-week fiscal year ending on the last Saturday in December. The three months ended March 30, 2024 and April 1, 2023 each consisted of 13 weeks. Use of *Estimates.* The preparation of consolidated financial statements in conformity with U.S. GAAP requires management to make estimates and assumptions that affect the reported amounts of assets and liabilities and disclosure of commitments and contingencies at the date of the financial statements and the reported amounts of revenues and expenses during the reporting periods. Actual results are likely to differ from those estimates, and such differences may be material to the financial statements. Areas where management uses judgment include, but are not limited to, revenue allowances, inventory valuation, valuation of goodwill, long-lived and intangible assets, and income taxes. Significant Accounting *Policies.* There have been no material changes to the Company's significant accounting policies in Note 2 - Basis of Presentation and Significant Accounting Policies, of the Notes to Consolidated Financial Statements included in the Company's Annual Report on Form 10-K for the fiscal year ended December 30, 2023.\")"
            ]
          },
          "metadata": {},
          "execution_count": 18
        }
      ]
    },
    {
      "cell_type": "code",
      "source": [
        "relevant_docs = earnings_call_db.similarity_search(query_2, k=3)\n",
        "relevant_docs[0]"
      ],
      "metadata": {
        "colab": {
          "base_uri": "https://localhost:8080/"
        },
        "id": "s0vHDL2BFEde",
        "outputId": "8585197e-2806-4ce3-ef5d-e59bcef424b2"
      },
      "execution_count": 19,
      "outputs": [
        {
          "output_type": "execute_result",
          "data": {
            "text/plain": [
              "Document(metadata={'quarter': 'Q4', 'speaker': 'Rob Williams'}, page_content=\"Thanks, everyone, for joining us. With me today are Jeff Clarke, Yvonne McGill and Tyler Johnson. Our earnings materials are available on our IR website, and I encourage you to review these materials and the presentation, which includes additional content to complement our discussion this afternoon. Guidance will be covered on today's call. During this call, unless otherwise indicated, all references to financial measures refer to non-GAAP financial measures, including non-GAAP gross margin, operating expenses, operating income, net income, diluted earnings per share and adjusted free cash flow. A reconciliation of these measures to their most directly comparable GAAP measures can be found in our web deck and our press release. Growth percentages refer to year-over-year change unless otherwise specified. Statements made during this call that relate to future results and events are forward-looking statements based on current expectations. Actual results and events could differ materially from those projected\")"
            ]
          },
          "metadata": {},
          "execution_count": 19
        }
      ]
    },
    {
      "cell_type": "markdown",
      "source": [
        "### Load and examine the persistent databases"
      ],
      "metadata": {
        "id": "FTfUb4eC7Vai"
      }
    },
    {
      "cell_type": "code",
      "source": [
        "embedding_function = SentenceTransformerEmbeddings(model_name=\"all-MiniLM-L6-v2\")\n",
        "load_sec_filings_md_db = Chroma(persist_directory=\"./sec-filings-md-db\",\n",
        "                                embedding_function=emb_fn,\n",
        "                                collection_name=\"sec_filings_md\")\n",
        "# load_earnings_call_db = Chroma(persist_directory=\"./earnings-call-db\", embedding_function=emb_fn)"
      ],
      "metadata": {
        "id": "XppkNnmn7U6Z",
        "colab": {
          "base_uri": "https://localhost:8080/"
        },
        "outputId": "ebd9d9f9-cbce-49a0-8e38-203764fc75b8"
      },
      "execution_count": 30,
      "outputs": [
        {
          "output_type": "stream",
          "name": "stderr",
          "text": [
            "/usr/local/lib/python3.10/dist-packages/huggingface_hub/file_download.py:1132: FutureWarning: `resume_download` is deprecated and will be removed in version 1.0.0. Downloads always resume when possible. If you want to force a new download, use `force_download=True`.\n",
            "  warnings.warn(\n"
          ]
        }
      ]
    },
    {
      "cell_type": "code",
      "source": [
        "# load_sec_filings_md_db.get()\n",
        "# if not specifying collection_name, then the line above return a dictionary with empty values."
      ],
      "metadata": {
        "id": "Lf8CsZzna1pd"
      },
      "execution_count": 32,
      "outputs": []
    },
    {
      "cell_type": "code",
      "source": [
        "import sqlite3\n",
        "\n",
        "# Path to your SQLite database file\n",
        "db_path = './sec-filings-md-db/chroma.sqlite3'\n",
        "\n",
        "# Connect to the SQLite database\n",
        "conn = sqlite3.connect(db_path)\n",
        "cursor = conn.cursor()\n",
        "\n",
        "# List all tables\n",
        "cursor.execute(\"SELECT name FROM sqlite_master WHERE type='table';\")\n",
        "tables = cursor.fetchall()\n",
        "\n",
        "print(\"Tables in the database:\")\n",
        "for table in tables:\n",
        "    print(table[0])"
      ],
      "metadata": {
        "id": "Vlo7JlL0TCSq",
        "colab": {
          "base_uri": "https://localhost:8080/"
        },
        "outputId": "91f65ebd-449e-4c77-9939-b2b8863a4e45"
      },
      "execution_count": 21,
      "outputs": [
        {
          "output_type": "stream",
          "name": "stdout",
          "text": [
            "Tables in the database:\n",
            "migrations\n",
            "embeddings_queue\n",
            "collection_metadata\n",
            "segments\n",
            "segment_metadata\n",
            "tenants\n",
            "databases\n",
            "collections\n",
            "embeddings\n",
            "embedding_metadata\n",
            "max_seq_id\n",
            "embedding_fulltext_search\n",
            "embedding_fulltext_search_data\n",
            "embedding_fulltext_search_idx\n",
            "embedding_fulltext_search_content\n",
            "embedding_fulltext_search_docsize\n",
            "embedding_fulltext_search_config\n"
          ]
        }
      ]
    },
    {
      "cell_type": "code",
      "source": [
        "for table in tables:\n",
        "  cursor.execute(f\"SELECT COUNT(*) FROM {table[0]}\")\n",
        "  num_documents = cursor.fetchone()[0]\n",
        "  print(f\"Table {table[0]} has {num_documents} rows.\")"
      ],
      "metadata": {
        "colab": {
          "base_uri": "https://localhost:8080/"
        },
        "id": "XyPYTvppXAtU",
        "outputId": "fd96e0fa-3fab-42e8-abda-7d74188ea4f8"
      },
      "execution_count": 24,
      "outputs": [
        {
          "output_type": "stream",
          "name": "stdout",
          "text": [
            "Table migrations has 11 rows.\n",
            "Table embeddings_queue has 387 rows.\n",
            "Table collection_metadata has 0 rows.\n",
            "Table segments has 4 rows.\n",
            "Table segment_metadata has 0 rows.\n",
            "Table tenants has 1 rows.\n",
            "Table databases has 1 rows.\n",
            "Table collections has 2 rows.\n",
            "Table embeddings has 387 rows.\n",
            "Table embedding_metadata has 2267 rows.\n",
            "Table max_seq_id has 1 rows.\n",
            "Table embedding_fulltext_search has 387 rows.\n",
            "Table embedding_fulltext_search_data has 1145 rows.\n",
            "Table embedding_fulltext_search_idx has 945 rows.\n",
            "Table embedding_fulltext_search_content has 387 rows.\n",
            "Table embedding_fulltext_search_docsize has 387 rows.\n",
            "Table embedding_fulltext_search_config has 1 rows.\n"
          ]
        }
      ]
    },
    {
      "cell_type": "code",
      "source": [
        "in_session_db_output = sec_filings_md_db.similarity_search(query_1, k=1)\n",
        "\n",
        "loaded_db_output = load_sec_filings_md_db.similarity_search(query_1, k=1)\n",
        "\n",
        "in_session_db_output[0] == loaded_db_output[0]"
      ],
      "metadata": {
        "colab": {
          "base_uri": "https://localhost:8080/"
        },
        "id": "tDhfbeYNYrVX",
        "outputId": "271bd523-62a7-4f2b-a735-70eb00ff5c0e"
      },
      "execution_count": 33,
      "outputs": [
        {
          "output_type": "execute_result",
          "data": {
            "text/plain": [
              "True"
            ]
          },
          "metadata": {},
          "execution_count": 33
        }
      ]
    }
  ]
}